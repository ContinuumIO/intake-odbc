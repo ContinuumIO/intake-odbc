{
 "cells": [
  {
   "cell_type": "code",
   "execution_count": 1,
   "metadata": {
    "collapsed": true
   },
   "outputs": [],
   "source": [
    "%run ../tests/util.py"
   ]
  },
  {
   "cell_type": "code",
   "execution_count": 2,
   "metadata": {},
   "outputs": [
    {
     "name": "stdout",
     "output_type": "stream",
     "text": [
      "Stopping intake-postgres ...\n",
      "Starting PostgreSQL server...\n",
      "The files belonging to this database system will be owned by user \"postgres\".\n",
      "This user must also own the server process.\n",
      "\n",
      "The database cluster will be initialized with locale \"en_US.utf8\".\n",
      "The default database encoding has accordingly been set to \"UTF8\".\n",
      "The default text search configuration will be set to \"english\".\n",
      "\n",
      "Data page checksums are disabled.\n",
      "\n",
      "fixing permissions on existing directory /var/lib/postgresql/data ... ok\n",
      "creating subdirectories ... ok\n",
      "selecting default max_connections ... 100\n",
      "selecting default shared_buffers ... 128MB\n",
      "selecting dynamic shared memory implementation ... posix\n",
      "creating configuration files ... ok\n",
      "creating template1 database in /var/lib/postgresql/data/base/1 ... ok\n",
      "initializing pg_authid ... ok\n",
      "initializing dependencies ... ok\n",
      "creating system views ... ok\n",
      "loading system objects' descriptions ... ok\n",
      "creating collations ... sh: locale: not found\n",
      "ok\n",
      "No usable system locales were found.\n",
      "Use the option \"--debug\" to see details.\n",
      "creating conversions ... ok\n",
      "creating dictionaries ... ok\n",
      "setting privileges on built-in objects ... ok\n",
      "creating information schema ... ok\n",
      "loading PL/pgSQL server-side language ... ok\n",
      "vacuuming database template1 ... ok\n",
      "copying template1 to template0 ... ok\n",
      "copying template1 to postgres ... ok\n",
      "syncing data to disk ... ok\n",
      "\n",
      "WARNING: enabling \"trust\" authentication for local connections\n",
      "You can change this by editing pg_hba.conf or using the option -A, or\n",
      "--auth-local and --auth-host, the next time you run initdb.\n",
      "\n",
      "Success. You can now start the database server using:\n",
      "\n",
      "    postgres -D /var/lib/postgresql/data\n",
      "or\n",
      "    pg_ctl -D /var/lib/postgresql/data -l logfile start\n",
      "\n",
      "****************************************************\n",
      "WARNING: No password has been set for the database.\n",
      "         This will allow anyone with access to the\n",
      "         Postgres port to access your database. In\n",
      "         Docker's default configuration, this is\n",
      "         effectively any other container on the same\n",
      "         system.\n",
      "\n",
      "         Use \"-e POSTGRES_PASSWORD=password\" to set\n",
      "         it in \"docker run\".\n",
      "****************************************************\n",
      "waiting for server to start....LOG:  could not bind IPv6 socket: Address not available\n",
      "HINT:  Is another postmaster already running on port 5432? If not, wait a few seconds and retry.\n",
      "LOG:  database system was shut down at 2018-01-31 21:47:24 UTC\n",
      "LOG:  MultiXact member wraparound protections are now enabled\n",
      "LOG:  database system is ready to accept connections\n",
      "LOG:  autovacuum launcher started\n",
      " done\n",
      "server started\n",
      "ALTER ROLE\n",
      "\n",
      "\n",
      "/usr/local/bin/docker-entrypoint.sh: running /docker-entrypoint-initdb.d/postgis.sh\n",
      "CREATE DATABASE\n",
      "UPDATE 1\n",
      "Loading PostGIS extensions into template_postgis\n",
      "CREATE EXTENSION\n",
      "CREATE EXTENSION\n",
      "CREATE EXTENSION\n",
      "CREATE EXTENSION\n",
      "Loading PostGIS extensions into postgres\n",
      "CREATE EXTENSION\n",
      "CREATE EXTENSION\n",
      "CREATE EXTENSION\n",
      "CREATE EXTENSION\n",
      "\n",
      "waiting for server to shut down....LOG:  received fast shutdown request\n",
      "LOG:  aborting any active transactions\n",
      "LOG:  autovacuum launcher shutting down\n",
      "LOG:  shutting down\n",
      "LOG:  database system is shut down\n",
      " done\n",
      "server stopped\n",
      "\n",
      "PostgreSQL init process complete; ready for start up.\n",
      "\n",
      "LOG:  database system was shut down at 2018-01-31 21:47:27 UTC\n",
      "LOG:  MultiXact member wraparound protections are now enabled\n",
      "LOG:  database system is ready to accept connections\n"
     ]
    }
   ],
   "source": [
    "context = pg()\n",
    "kwargs = next(context)"
   ]
  },
  {
   "cell_type": "code",
   "execution_count": 3,
   "metadata": {},
   "outputs": [
    {
     "data": {
      "text/plain": [
       "{'dsn': 'PG'}"
      ]
     },
     "execution_count": 3,
     "metadata": {},
     "output_type": "execute_result"
    }
   ],
   "source": [
    "kwargs"
   ]
  },
  {
   "cell_type": "code",
   "execution_count": 4,
   "metadata": {},
   "outputs": [
    {
     "name": "stdout",
     "output_type": "stream",
     "text": [
      "[MSSQL]\n",
      "Driver   = FreeTDS Driver\n",
      "Server   = localhost\n",
      "Port     = 1433\n",
      "Database = test\n",
      "\n",
      "[PG]\n",
      "Driver               = PostgreSQL Driver\n",
      "Database             = postgres\n",
      "Servername           = localhost\n",
      "UserName             = postgres\n",
      "Password             =\n",
      "Port                 = 5432\n",
      "Protocol             = 7.4\n",
      "UseDeclareFetch      = 1\n",
      "Fetch                = 10000\n",
      "UseServerSidePrepare = 1\n",
      "BoolsAsChar          = 0\n",
      "ConnSettings         = set time zone 'UTC';\n",
      "\n",
      "\n",
      "[FreeTDS Driver]\n",
      "Driver = /usr/local/lib/libtdsodbc.so\n",
      "\n",
      "[PostgreSQL Driver]\n",
      "Driver      = /usr/local/lib/psqlodbcw.so\n",
      "Threading   = 2"
     ]
    }
   ],
   "source": [
    "%cat odbc.ini\n",
    "print('\\n')\n",
    "%cat odbcinst.ini"
   ]
  },
  {
   "cell_type": "code",
   "execution_count": 6,
   "metadata": {},
   "outputs": [],
   "source": [
    "import intake"
   ]
  },
  {
   "cell_type": "code",
   "execution_count": 9,
   "metadata": {},
   "outputs": [],
   "source": [
    "s = intake.open_odbc(sql_expr=\"SELECT * from testtable\", uri=None, **kwargs)"
   ]
  },
  {
   "cell_type": "code",
   "execution_count": 10,
   "metadata": {},
   "outputs": [
    {
     "data": {
      "text/html": [
       "<div>\n",
       "<style scoped>\n",
       "    .dataframe tbody tr th:only-of-type {\n",
       "        vertical-align: middle;\n",
       "    }\n",
       "\n",
       "    .dataframe tbody tr th {\n",
       "        vertical-align: top;\n",
       "    }\n",
       "\n",
       "    .dataframe thead th {\n",
       "        text-align: right;\n",
       "    }\n",
       "</style>\n",
       "<table border=\"1\" class=\"dataframe\">\n",
       "  <thead>\n",
       "    <tr style=\"text-align: right;\">\n",
       "      <th></th>\n",
       "      <th>productid</th>\n",
       "      <th>productname</th>\n",
       "      <th>price</th>\n",
       "      <th>productdescription</th>\n",
       "    </tr>\n",
       "  </thead>\n",
       "  <tbody>\n",
       "    <tr>\n",
       "      <th>0</th>\n",
       "      <td>0</td>\n",
       "      <td>fridge</td>\n",
       "      <td>7.646706</td>\n",
       "      <td>hi</td>\n",
       "    </tr>\n",
       "    <tr>\n",
       "      <th>1</th>\n",
       "      <td>1</td>\n",
       "      <td>kettle</td>\n",
       "      <td>8.707896</td>\n",
       "      <td>hi</td>\n",
       "    </tr>\n",
       "    <tr>\n",
       "      <th>2</th>\n",
       "      <td>2</td>\n",
       "      <td>kettle</td>\n",
       "      <td>4.943114</td>\n",
       "      <td>hi</td>\n",
       "    </tr>\n",
       "    <tr>\n",
       "      <th>3</th>\n",
       "      <td>3</td>\n",
       "      <td>kettle</td>\n",
       "      <td>4.617013</td>\n",
       "      <td>hi</td>\n",
       "    </tr>\n",
       "    <tr>\n",
       "      <th>4</th>\n",
       "      <td>4</td>\n",
       "      <td>fridge</td>\n",
       "      <td>8.064835</td>\n",
       "      <td>hi</td>\n",
       "    </tr>\n",
       "  </tbody>\n",
       "</table>\n",
       "</div>"
      ],
      "text/plain": [
       "   productid productname     price productdescription\n",
       "0          0      fridge  7.646706                 hi\n",
       "1          1      kettle  8.707896                 hi\n",
       "2          2      kettle  4.943114                 hi\n",
       "3          3      kettle  4.617013                 hi\n",
       "4          4      fridge  8.064835                 hi"
      ]
     },
     "execution_count": 10,
     "metadata": {},
     "output_type": "execute_result"
    }
   ],
   "source": [
    "out = s.read()\n",
    "out.head()"
   ]
  },
  {
   "cell_type": "code",
   "execution_count": 16,
   "metadata": {},
   "outputs": [
    {
     "data": {
      "text/plain": [
       "fridge     1699\n",
       "oven       1684\n",
       "mixer      1664\n",
       "micro      1659\n",
       "kettle     1647\n",
       "toaster    1647\n",
       "Name: productname, dtype: int64"
      ]
     },
     "execution_count": 16,
     "metadata": {},
     "output_type": "execute_result"
    }
   ],
   "source": [
    "out.productname.value_counts()"
   ]
  },
  {
   "cell_type": "code",
   "execution_count": 13,
   "metadata": {
    "collapsed": true
   },
   "outputs": [],
   "source": [
    "s = intake.open_odbc_partitioned(sql_expr=\"SELECT * from testtable\", uri=None, index='productid', \n",
    "                                 npartitions=2, **kwargs)"
   ]
  },
  {
   "cell_type": "code",
   "execution_count": 17,
   "metadata": {},
   "outputs": [
    {
     "data": {
      "text/plain": [
       "{'metadata': None,\n",
       " 'odbc_kwargs': {'dsn': 'PG', 'index': 'productid', 'npartitions': 2},\n",
       " 'sql_expr': 'SELECT * from testtable',\n",
       " 'uri': None}"
      ]
     },
     "execution_count": 17,
     "metadata": {},
     "output_type": "execute_result"
    }
   ],
   "source": [
    "s._init_args"
   ]
  },
  {
   "cell_type": "code",
   "execution_count": null,
   "metadata": {
    "collapsed": true
   },
   "outputs": [],
   "source": []
  }
 ],
 "metadata": {
  "kernelspec": {
   "display_name": "Python [default]",
   "language": "python",
   "name": "python3"
  },
  "language_info": {
   "codemirror_mode": {
    "name": "ipython",
    "version": 3
   },
   "file_extension": ".py",
   "mimetype": "text/x-python",
   "name": "python",
   "nbconvert_exporter": "python",
   "pygments_lexer": "ipython3",
   "version": "3.5.3"
  }
 },
 "nbformat": 4,
 "nbformat_minor": 2
}
